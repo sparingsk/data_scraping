{
 "cells": [
  {
   "cell_type": "code",
   "execution_count": 1,
   "id": "ccfef966-3868-4bc3-a509-f065ad9ca156",
   "metadata": {},
   "outputs": [],
   "source": [
    "import os\n",
    "import pandas as pd\n",
    "\n",
    "import json"
   ]
  },
  {
   "cell_type": "code",
   "execution_count": 2,
   "id": "02e92be5-f8ee-4d17-8990-65f3ca2e5fac",
   "metadata": {},
   "outputs": [],
   "source": [
    "files = os.listdir('data/venues')"
   ]
  },
  {
   "cell_type": "code",
   "execution_count": 3,
   "id": "2e75e6fb-5616-4546-8082-f4cfb3657363",
   "metadata": {
    "scrolled": true
   },
   "outputs": [],
   "source": [
    "data = []\n",
    "\n",
    "for file in files:\n",
    "    fp = os.path.join('data/venues', file)\n",
    "    with open(fp, 'r', encoding='utf-8') as f:\n",
    "        data.append(json.load(f))"
   ]
  },
  {
   "cell_type": "code",
   "execution_count": 11,
   "id": "efb15aa4-3ac8-4ce3-9fa1-022986d03644",
   "metadata": {},
   "outputs": [
    {
     "data": {
      "text/plain": [
       "2037"
      ]
     },
     "execution_count": 11,
     "metadata": {},
     "output_type": "execute_result"
    }
   ],
   "source": [
    "len(data)"
   ]
  },
  {
   "cell_type": "code",
   "execution_count": 12,
   "id": "bd6107d4-1c88-4198-9524-a9e2a0391df1",
   "metadata": {},
   "outputs": [],
   "source": [
    "df = pd.DataFrame(data)"
   ]
  },
  {
   "cell_type": "code",
   "execution_count": 36,
   "id": "f60312be-4142-4e0e-96d3-186272c94f92",
   "metadata": {},
   "outputs": [],
   "source": [
    "def extract_lat_long(gps):\n",
    "\n",
    "    parts = gps.split()\n",
    "    if len(parts) != 4:\n",
    "        return None, None\n",
    "\n",
    "    return parts[1], parts[3]\n",
    "\n",
    "df['lat'], df['lng'] = zip(*df.apply(lambda row: extract_lat_long(row['GPS']), axis=1))"
   ]
  },
  {
   "cell_type": "code",
   "execution_count": 35,
   "id": "e4ecca8c-b46c-4fad-8b26-0c91ac88337d",
   "metadata": {
    "scrolled": true
   },
   "outputs": [],
   "source": [
    "df['name'] = df['name'].str.strip()"
   ]
  },
  {
   "cell_type": "code",
   "execution_count": 41,
   "id": "06486874-254b-4003-8a46-7440e38a02df",
   "metadata": {},
   "outputs": [
    {
     "data": {
      "text/plain": [
       "category\n",
       "ŠPORTOVÉ KLUBY                 623\n",
       "Aerobik, fitness               269\n",
       "Plávanie, vodný šport          209\n",
       "Tenis                          134\n",
       "Bowling, kolky                  75\n",
       "Ostatné športy                  69\n",
       "Streľba, paintball, airsoft     68\n",
       "Volejbal, plážový volejbal      66\n",
       "Squash                          65\n",
       "Hokej, korčuľovanie             65\n",
       "Futbal                          59\n",
       "Jazdectvo                       54\n",
       "Bedminton                       46\n",
       "Lyžovanie                       46\n",
       "Golf                            40\n",
       "Basketbal, streetball           35\n",
       "Motošport                       30\n",
       "ŠPORTY                          30\n",
       "Stolný tenis                    29\n",
       "Pre deti                        25\n",
       "Name: count, dtype: int64"
      ]
     },
     "execution_count": 41,
     "metadata": {},
     "output_type": "execute_result"
    }
   ],
   "source": [
    "df.category.value_counts()"
   ]
  },
  {
   "cell_type": "code",
   "execution_count": 42,
   "id": "c0908272-8424-4bf0-aae1-c6ac52cc3e4a",
   "metadata": {},
   "outputs": [],
   "source": [
    "categories = [\n",
    "    'Aerobik, fitness'\n",
    "]"
   ]
  },
  {
   "cell_type": "code",
   "execution_count": 43,
   "id": "620077b3-13c2-4c29-a49b-0c5ab48e96c4",
   "metadata": {},
   "outputs": [],
   "source": [
    "df_clean = df[df.category.isin(categories)].copy()"
   ]
  },
  {
   "cell_type": "code",
   "execution_count": 56,
   "id": "0e225e91-455a-48c8-9e53-3830ba85a553",
   "metadata": {},
   "outputs": [],
   "source": [
    "def sanitize_nan(value):\n",
    "    if pd.isna(value):\n",
    "        return None\n",
    "    return value\n",
    "\n",
    "df_clean = df_clean.map(sanitize_nan)"
   ]
  },
  {
   "cell_type": "code",
   "execution_count": 57,
   "id": "0cd6fa2e-14cd-4ebf-8d84-5873503b55f5",
   "metadata": {},
   "outputs": [],
   "source": [
    "\n",
    "\n",
    "venues = []\n",
    "for i, row in df_clean.iterrows():\n",
    "\n",
    "    venue = {\n",
    "        'id': i,\n",
    "        'name': row['name'],\n",
    "        'address': row['Adresa'],\n",
    "        'lat': row['lat'],\n",
    "        'lng': row['lng'],\n",
    "        'phone': row['Telefón'],\n",
    "        'email': row['E-mail'],\n",
    "        'web': sanitize_nan(row['Web']),\n",
    "    }\n",
    "    venues.append(venue)"
   ]
  },
  {
   "cell_type": "code",
   "execution_count": 58,
   "id": "e313c275-6f67-4fdc-be43-da00ebd1897b",
   "metadata": {},
   "outputs": [],
   "source": [
    "with open('data/venues.json', 'w', encoding='utf-8') as f:\n",
    "    json.dump(venues, f, indent=4)"
   ]
  },
  {
   "cell_type": "code",
   "execution_count": 50,
   "id": "1906c53d-65b1-452e-9031-15cd190515dc",
   "metadata": {},
   "outputs": [
    {
     "data": {
      "text/plain": [
       "Index(['url', 'category', 'name', 'description', 'Adresa', 'Telefón', 'E-mail',\n",
       "       'Web', 'GPS', 'image_path', 'Aktivity a služby', 'Otváracie hodiny',\n",
       "       'Cenník', 'Kategória', 'lat', 'lng'],\n",
       "      dtype='object')"
      ]
     },
     "execution_count": 50,
     "metadata": {},
     "output_type": "execute_result"
    }
   ],
   "source": [
    "df.columns"
   ]
  },
  {
   "cell_type": "code",
   "execution_count": null,
   "id": "612847c6-757f-422d-9da5-d5526f078c10",
   "metadata": {},
   "outputs": [],
   "source": []
  },
  {
   "cell_type": "code",
   "execution_count": null,
   "id": "f4e4b3af-424b-4db8-8d02-d11febf66603",
   "metadata": {},
   "outputs": [],
   "source": []
  }
 ],
 "metadata": {
  "kernelspec": {
   "display_name": "Python 3 (ipykernel)",
   "language": "python",
   "name": "python3"
  },
  "language_info": {
   "codemirror_mode": {
    "name": "ipython",
    "version": 3
   },
   "file_extension": ".py",
   "mimetype": "text/x-python",
   "name": "python",
   "nbconvert_exporter": "python",
   "pygments_lexer": "ipython3",
   "version": "3.12.4"
  }
 },
 "nbformat": 4,
 "nbformat_minor": 5
}
